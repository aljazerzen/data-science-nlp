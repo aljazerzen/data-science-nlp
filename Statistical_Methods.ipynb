{
 "cells": [
  {
   "cell_type": "markdown",
   "id": "excited-advice",
   "metadata": {},
   "source": [
    "## Statistical methods and basic neural approaches\n",
    "\n",
    "In this notebook we've done the statistical methods and the basic neural approaches when tackling the offensive language exploratory analysis.\n",
    "\n",
    "All library imports are on the top and should be the first cell to be run."
   ]
  },
  {
   "cell_type": "code",
   "execution_count": 13,
   "id": "medium-supervision",
   "metadata": {},
   "outputs": [
    {
     "name": "stderr",
     "output_type": "stream",
     "text": [
      "[nltk_data] Downloading package punkt to\n",
      "[nltk_data]     C:\\Users\\MaticF\\AppData\\Roaming\\nltk_data...\n",
      "[nltk_data]   Package punkt is already up-to-date!\n",
      "[nltk_data] Downloading package stopwords to\n",
      "[nltk_data]     C:\\Users\\MaticF\\AppData\\Roaming\\nltk_data...\n",
      "[nltk_data]   Package stopwords is already up-to-date!\n"
     ]
    }
   ],
   "source": [
    "#Required libraries\n",
    "import nltk\n",
    "nltk.download('punkt')\n",
    "nltk.download('stopwords')\n",
    "from nltk.stem.snowball import SnowballStemmer\n",
    "from nltk.tokenize import TweetTokenizer\n",
    "from nltk.corpus import stopwords\n",
    "from sklearn.decomposition import PCA\n",
    "import matplotlib.pyplot as plt\n",
    "import pandas as pd\n",
    "import numpy as np\n",
    "import gensim\n",
    "import re"
   ]
  },
  {
   "cell_type": "markdown",
   "id": "lasting-participation",
   "metadata": {},
   "source": [
    "### Dataset preparation and basic methods\n",
    "\n",
    "In this part we will preprocess the data and use some basic statistical methods on it."
   ]
  },
  {
   "cell_type": "code",
   "execution_count": 4,
   "id": "hispanic-newark",
   "metadata": {},
   "outputs": [
    {
     "name": "stdout",
     "output_type": "stream",
     "text": [
      "               id  sentiment      target  \\\n",
      "0      hasoc_en_1       none         NaN   \n",
      "1      hasoc_en_2       hate    targeted   \n",
      "2      hasoc_en_3       none         NaN   \n",
      "3      hasoc_en_4       none         NaN   \n",
      "4      hasoc_en_5       none         NaN   \n",
      "...           ...        ...         ...   \n",
      "12647        5642    hateful      origin   \n",
      "12648        5643    hateful       other   \n",
      "12649        5644    hateful       other   \n",
      "12650        5645    hateful  disability   \n",
      "12651        5646  offensive      origin   \n",
      "\n",
      "                                                    text      source  \n",
      "0      #DhoniKeepsTheGlove | WATCH: Sports Minister K...  25_twitter  \n",
      "1      @politico No. We should remember very clearly ...  25_twitter  \n",
      "2      @cricketworldcup Guess who would be the winner...  25_twitter  \n",
      "3      Corbyn is too politically intellectual for #Bo...  25_twitter  \n",
      "4      All the best to #TeamIndia for another swimmin...  25_twitter  \n",
      "...                                                  ...         ...  \n",
      "12647  @user @user @user Maybe but @user who lied abo...  35_twitter  \n",
      "12648              @user @user You\\u2019re a retard :) x  35_twitter  \n",
      "12649  (2/2) like no you fucking twat I'm doing damag...  35_twitter  \n",
      "12650            If your bf is retarded guess what u r 2  35_twitter  \n",
      "12651             @user whats the ching chong stuff mean  35_twitter  \n",
      "\n",
      "[12652 rows x 5 columns]\n"
     ]
    }
   ],
   "source": [
    "#Starting dataset overview\n",
    "path = \"dataset.csv\"\n",
    "df = pd.read_csv(path,encoding='utf-8')\n",
    "print(df)"
   ]
  },
  {
   "cell_type": "code",
   "execution_count": null,
   "id": "rational-assurance",
   "metadata": {},
   "outputs": [
    {
     "name": "stderr",
     "output_type": "stream",
     "text": [
      "<ipython-input-17-18427595f062>:5: SettingWithCopyWarning: \n",
      "A value is trying to be set on a copy of a slice from a DataFrame.\n",
      "Try using .loc[row_indexer,col_indexer] = value instead\n",
      "\n",
      "See the caveats in the documentation: https://pandas.pydata.org/pandas-docs/stable/user_guide/indexing.html#returning-a-view-versus-a-copy\n",
      "  corpus[\"tokenized\"] = corpus['text'].astype(str).apply(token.tokenize)\n"
     ]
    }
   ],
   "source": [
    "def tokenize_and_stem_corpus(corpus):\n",
    "    \n",
    "    #For tokenizing we use the special TweetTokenizer which helps to take care of hashtags, mentions etc.\n",
    "    token = TweetTokenizer()\n",
    "    corpus[\"tokenized\"] = corpus['text'].astype(str).apply(token.tokenize)\n",
    "    prestemmed = corpus[\"tokenized\"].tolist()\n",
    "    \n",
    "    #For stemming and stopwords we use the basic SnowballStemmer and the english stopwords\n",
    "    stemmer = SnowballStemmer(\"english\")\n",
    "    stop = stopwords.words('english')\n",
    "    \n",
    "    #Array for holding stemmed sentences and the unique stems in this corpus\n",
    "    stemmed = []\n",
    "    unique = []\n",
    "    \n",
    "    for tokenized_sentence in prestemmed:\n",
    "        filt = []\n",
    "        for word in tokenized_sentence:\n",
    "            #We remove all tokens which are hashtages, mentions or links and those which do not contain a letter\n",
    "            if re.search('[a-zA-Z]', word) and not (\"@\" in word or \"http\" in word or \"t.co\" in word or \"#\" in word) and word not in stop:\n",
    "                filt.append(word)\n",
    "        \n",
    "        #We stem the words        \n",
    "        stems = [stemmer.stem(f) for f in filt]\n",
    "        nstems = []\n",
    "        \n",
    "        for s in stems:\n",
    "            #We remove the stop words\n",
    "            if s not in stop:\n",
    "                nstems.append(s)\n",
    "        stemmed.append(nstems)\n",
    "        \n",
    "        for s in nstems:\n",
    "            #Searching for all unique stems\n",
    "            if s not in unique:\n",
    "                unique.append(s)\n",
    "    corpus[\"stemmed\"] = stemmed\n",
    "    return corpus, unique\n",
    "\n",
    "def calculate_cond_frequencies(corpus):\n",
    "    \n",
    "    #Create a list of stems and sentiments\n",
    "    sentiment = corpus[\"sentiment\"].tolist()      \n",
    "    stemmed = corpus[\"stemmed\"].tolist()\n",
    "    cfd = nltk.ConditionalFreqDist()\n",
    "    \n",
    "    #Iterate through all of them and update the frequencies\n",
    "    for sent, stemmed_sentence in zip(sentiment,stemmed):\n",
    "        for stem in stemmed_sentence:\n",
    "            cfd[sent][stem] += 1\n",
    "    \n",
    "    return cfd\n",
    "\n",
    "#Generalized calculate_cond_frequencies for n-grams\n",
    "def extract_ngrams(corpus,n):\n",
    "    \n",
    "    sentiment = corpus[\"sentiment\"].tolist()      \n",
    "    stemmed = corpus[\"stemmed\"].tolist()\n",
    "    cfd = nltk.ConditionalFreqDist()\n",
    "    \n",
    "    for sent, stemmed_sentence in zip(sentiment,stemmed):\n",
    "        ng = nltk.ngrams(stemmed_sentence,n)\n",
    "        for gram in ng:\n",
    "            cfd[sent][gram] += 1\n",
    "    return cfd\n",
    "\n",
    "#Calculates chi-square test for each label, which tells us how importantant is the word for the label (or in this case the stem)\n",
    "def chi_square_test(corpus, unique):\n",
    "    cfd = calculate_cond_frequencies(corpus)\n",
    "    \n",
    "    #The number we need to achieve for 95% CI\n",
    "    meja = 3.84\n",
    "    pomembne = []\n",
    "    all_classes = list(cfd.keys())\n",
    "    \n",
    "    for key in cfd.keys():\n",
    "        \n",
    "        print(f\"Current class: {key}\")\n",
    "        other_classes = []\n",
    "        for o in all_classes:\n",
    "            if o != key:\n",
    "                other_classes.append(o)\n",
    "        \n",
    "        S = cfd.N()\n",
    "        R = cfd[key].N()\n",
    "        \n",
    "        for u in unique:\n",
    "            chi = 0\n",
    "\n",
    "            a = cfd[key][u] if u in cfd[key] else 0\n",
    "            b = sum([cfd[o][u] if u in cfd[o] else 0 for o in other_classes])\n",
    "            \n",
    "            #Pricakovana vrednost\n",
    "            E = (a+b)/(S)\n",
    "            #Opazovana vrednost\n",
    "            O = (a)/R\n",
    "\n",
    "            chi += ((O-E)**2)/E\n",
    "            if chi > meja:\n",
    "                print(u)\n",
    "                pomembne.append((u,key))\n",
    "\n",
    "    return pomembne\n",
    "\n",
    "corpus = df[[\"text\",\"sentiment\"]]\n",
    "corpus, unique = tokenize_and_stem_corpus(corpus)\n",
    "cfd = calculate_cond_frequencies(corpus)"
   ]
  },
  {
   "cell_type": "markdown",
   "id": "enclosed-conditions",
   "metadata": {},
   "source": [
    "### Basic experiments"
   ]
  },
  {
   "cell_type": "code",
   "execution_count": 8,
   "id": "rising-hammer",
   "metadata": {},
   "outputs": [
    {
     "name": "stdout",
     "output_type": "stream",
     "text": [
      "3 most common 1-grams for none: [(('doctor',), 433), (('trump',), 295), (('peopl',), 245)]\n",
      "3 most common 1-grams for hate: [(('peopl',), 99), (('muslim',), 96), (('trump',), 91)]\n",
      "3 most common 1-grams for profanity: [(('fuck',), 279), (('trump',), 83), (('get',), 59)]\n",
      "3 most common 1-grams for hateful: [(('u2026',), 356), (('retard',), 323), (('countri',), 236)]\n",
      "3 most common 1-grams for abusive: [(('retard',), 157), (('u2026',), 119), (('ud83d',), 117)]\n",
      "3 most common 1-grams for offensive: [(('retard',), 720), (('u2026',), 562), (('ud83d',), 456)]\n",
      "3 most common 1-grams for disrespectful: [(('retard',), 42), (('u2026',), 40), (('countri',), 30)]\n",
      "3 most common 1-grams for fearful: [(('retard',), 9), (('twat',), 8), (('n',), 7)]\n",
      "===========================================================\n",
      "3 most common 2-grams for none: [(('world', 'cup'), 137), (('bori', 'johnson'), 54), (('west', 'bengal'), 48)]\n",
      "3 most common 2-grams for hate: [(('world', 'cup'), 45), (('bori', 'johnson'), 18), (('dhoni', 'glove'), 17)]\n",
      "3 most common 2-grams for profanity: [(('world', 'cup'), 21), (('piec', 'shit'), 15), (('rain', 'rain'), 10)]\n",
      "3 most common 2-grams for hateful: [(('ud83d', 'ude'), 154), (('shithol', 'countri'), 105), (('ching', 'chong'), 101)]\n",
      "3 most common 2-grams for abusive: [(('ud83d', 'ude'), 100), (('ude', 'ud83d'), 48), (('ching', 'chong'), 44)]\n",
      "3 most common 2-grams for offensive: [(('ud83d', 'ude'), 325), (('ching', 'chong'), 186), (('shithol', 'countri'), 158)]\n",
      "3 most common 2-grams for disrespectful: [(('ud83d', 'ude'), 21), (('shithol', 'countri'), 19), (('ching', 'chong'), 16)]\n",
      "3 most common 2-grams for fearful: [(('ud83d', 'ude'), 4), (('ching', 'chong'), 2), (('full', 'retard'), 2)]\n",
      "===========================================================\n",
      "3 most common 3-grams for none: [(('cricket', 'world', 'cup'), 18), (('project', 'project', 'project'), 17), (('john', 'mccain', 'day'), 16)]\n",
      "3 most common 3-grams for hate: [(('lock', 'lock', 'lock'), 9), (('omar', 'disgrac', 'islam'), 7), (('islam', 'cricket', 'council'), 6)]\n",
      "3 most common 3-grams for profanity: [(('video', 'oral', 'sex'), 6), (('world', 'cup', 'ban'), 5), (('cup', 'ban', 'rain'), 5)]\n",
      "3 most common 3-grams for hateful: [(('ud83d', 'ude', 'ud83d'), 69), (('ude', 'ud83d', 'ude'), 66), (('go', 'back', 'countri'), 14)]\n",
      "3 most common 3-grams for abusive: [(('ud83d', 'ude', 'ud83d'), 48), (('ude', 'ud83d', 'ude'), 46), (('ud83d', 'ude', '2d'), 16)]\n",
      "3 most common 3-grams for offensive: [(('ud83d', 'ude', 'ud83d'), 122), (('ude', 'ud83d', 'ude'), 118), (('ud83d', 'udc', 'ud83d'), 65)]\n",
      "3 most common 3-grams for disrespectful: [(('ud83d', 'ude', 'ud83d'), 5), (('ude', 'ud83d', 'ude'), 5), (('nit', 'u2019', 'okay'), 4)]\n",
      "3 most common 3-grams for fearful: [(('ud83d', 'ude', 'ud83d'), 2), (('ude', 'ud83d', 'ude'), 2), (('matt', 'stop', 'label'), 1)]\n",
      "===========================================================\n"
     ]
    }
   ],
   "source": [
    "for i in range(1,4):\n",
    "    ng_cfd = extract_ngrams(corpus,i)\n",
    "    for k in ng_cfd.keys():\n",
    "        print(f\"3 most common {i}-grams for {k}: {ng_cfd[k].most_common(3)}\")\n",
    "    print(\"===========================================================\")"
   ]
  },
  {
   "cell_type": "code",
   "execution_count": 11,
   "id": "differential-interest",
   "metadata": {},
   "outputs": [
    {
     "name": "stdout",
     "output_type": "stream",
     "text": [
      "Trenutni klass: none\n",
      "Trenutni klass: hate\n",
      "Trenutni klass: profanity\n",
      "Trenutni klass: hateful\n",
      "Trenutni klass: abusive\n",
      "Trenutni klass: offensive\n",
      "Trenutni klass: disrespectful\n",
      "Trenutni klass: fearful\n"
     ]
    },
    {
     "data": {
      "text/plain": [
       "[]"
      ]
     },
     "execution_count": 11,
     "metadata": {},
     "output_type": "execute_result"
    }
   ],
   "source": [
    "chi_square_test(corpus,unique)"
   ]
  },
  {
   "cell_type": "markdown",
   "id": "alike-portrait",
   "metadata": {},
   "source": [
    "### Basic neural approaches\n",
    "\n",
    "In this part we will present basic neural approaches such as Word2Vec and plot its embedding to see the relationship between the labels"
   ]
  },
  {
   "cell_type": "code",
   "execution_count": 16,
   "id": "grand-rainbow",
   "metadata": {},
   "outputs": [
    {
     "name": "stderr",
     "output_type": "stream",
     "text": [
      "<ipython-input-16-97e0bcb82f70>:16: DeprecationWarning: Call to deprecated `__getitem__` (Method will be removed in 4.0.0, use self.wv.__getitem__() instead).\n",
      "  corpus_dict[k] = model[vocab]\n",
      "<ipython-input-16-97e0bcb82f70>:18: DeprecationWarning: Call to deprecated `__getitem__` (Method will be removed in 4.0.0, use self.wv.__getitem__() instead).\n",
      "  whole_corpus = model[whole_corpus]\n",
      "*c* argument looks like a single numeric RGB or RGBA sequence, which should be avoided as value-mapping will have precedence in case its length matches with *x* & *y*.  Please use the *color* keyword-argument or provide a 2-D array with a single row if you intend to specify the same RGB or RGBA value for all points.\n",
      "*c* argument looks like a single numeric RGB or RGBA sequence, which should be avoided as value-mapping will have precedence in case its length matches with *x* & *y*.  Please use the *color* keyword-argument or provide a 2-D array with a single row if you intend to specify the same RGB or RGBA value for all points.\n",
      "*c* argument looks like a single numeric RGB or RGBA sequence, which should be avoided as value-mapping will have precedence in case its length matches with *x* & *y*.  Please use the *color* keyword-argument or provide a 2-D array with a single row if you intend to specify the same RGB or RGBA value for all points.\n",
      "*c* argument looks like a single numeric RGB or RGBA sequence, which should be avoided as value-mapping will have precedence in case its length matches with *x* & *y*.  Please use the *color* keyword-argument or provide a 2-D array with a single row if you intend to specify the same RGB or RGBA value for all points.\n",
      "*c* argument looks like a single numeric RGB or RGBA sequence, which should be avoided as value-mapping will have precedence in case its length matches with *x* & *y*.  Please use the *color* keyword-argument or provide a 2-D array with a single row if you intend to specify the same RGB or RGBA value for all points.\n",
      "*c* argument looks like a single numeric RGB or RGBA sequence, which should be avoided as value-mapping will have precedence in case its length matches with *x* & *y*.  Please use the *color* keyword-argument or provide a 2-D array with a single row if you intend to specify the same RGB or RGBA value for all points.\n",
      "*c* argument looks like a single numeric RGB or RGBA sequence, which should be avoided as value-mapping will have precedence in case its length matches with *x* & *y*.  Please use the *color* keyword-argument or provide a 2-D array with a single row if you intend to specify the same RGB or RGBA value for all points.\n",
      "*c* argument looks like a single numeric RGB or RGBA sequence, which should be avoided as value-mapping will have precedence in case its length matches with *x* & *y*.  Please use the *color* keyword-argument or provide a 2-D array with a single row if you intend to specify the same RGB or RGBA value for all points.\n",
      "*c* argument looks like a single numeric RGB or RGBA sequence, which should be avoided as value-mapping will have precedence in case its length matches with *x* & *y*.  Please use the *color* keyword-argument or provide a 2-D array with a single row if you intend to specify the same RGB or RGBA value for all points.\n",
      "*c* argument looks like a single numeric RGB or RGBA sequence, which should be avoided as value-mapping will have precedence in case its length matches with *x* & *y*.  Please use the *color* keyword-argument or provide a 2-D array with a single row if you intend to specify the same RGB or RGBA value for all points.\n",
      "*c* argument looks like a single numeric RGB or RGBA sequence, which should be avoided as value-mapping will have precedence in case its length matches with *x* & *y*.  Please use the *color* keyword-argument or provide a 2-D array with a single row if you intend to specify the same RGB or RGBA value for all points.\n",
      "*c* argument looks like a single numeric RGB or RGBA sequence, which should be avoided as value-mapping will have precedence in case its length matches with *x* & *y*.  Please use the *color* keyword-argument or provide a 2-D array with a single row if you intend to specify the same RGB or RGBA value for all points.\n",
      "*c* argument looks like a single numeric RGB or RGBA sequence, which should be avoided as value-mapping will have precedence in case its length matches with *x* & *y*.  Please use the *color* keyword-argument or provide a 2-D array with a single row if you intend to specify the same RGB or RGBA value for all points.\n",
      "*c* argument looks like a single numeric RGB or RGBA sequence, which should be avoided as value-mapping will have precedence in case its length matches with *x* & *y*.  Please use the *color* keyword-argument or provide a 2-D array with a single row if you intend to specify the same RGB or RGBA value for all points.\n",
      "*c* argument looks like a single numeric RGB or RGBA sequence, which should be avoided as value-mapping will have precedence in case its length matches with *x* & *y*.  Please use the *color* keyword-argument or provide a 2-D array with a single row if you intend to specify the same RGB or RGBA value for all points.\n",
      "*c* argument looks like a single numeric RGB or RGBA sequence, which should be avoided as value-mapping will have precedence in case its length matches with *x* & *y*.  Please use the *color* keyword-argument or provide a 2-D array with a single row if you intend to specify the same RGB or RGBA value for all points.\n"
     ]
    },
    {
     "data": {
      "image/png": "[encoded data removed]",
      "text/plain": [
       "<Figure size 864x864 with 1 Axes>"
      ]
     },
     "metadata": {
      "needs_background": "light"
     },
     "output_type": "display_data"
    }
   ],
   "source": [
    "def extract_most_common_words(corpus,model,n):\n",
    "    \n",
    "    #Extracts n most common 1-grams for each label for the  corpus\n",
    "    # whole_corpus has Word2Vec (or some others models) embeddings for all the words\n",
    "    # Corpus_dict splits the values under the labels\n",
    "    # words holds all the words\n",
    "    cfd = calculate_cond_frequencies(corpus)\n",
    "    whole_corpus = []\n",
    "    corpus_dict = {}\n",
    "    \n",
    "    for k in cfd.keys():\n",
    "        mc = cfd[k].most_common(n)\n",
    "\n",
    "        vocab = []\n",
    "        for w in mc:\n",
    "            word = w[0]\n",
    "            vocab.append(word)\n",
    "            whole_corpus.append(word)\n",
    "        corpus_dict[k] = model[vocab]\n",
    "    \n",
    "    words = whole_corpus\n",
    "    whole_corpus = model[whole_corpus]\n",
    "    return whole_corpus, corpus_dict, words\n",
    "\n",
    "#Plots the embeddings decomposed by the PCA algorithm\n",
    "def plot_word2vec(whole_corpus,corpus_dict, words):\n",
    "    \n",
    "    pca = PCA(n_components = 2)\n",
    "    whole_corpus = pca.fit_transform(whole_corpus)\n",
    "    \n",
    "    plt.figure(1,figsize=(12,12))\n",
    "    ct = 0\n",
    "    ctc = 0\n",
    "    cmap = plt.cm.get_cmap('Spectral')\n",
    "    \n",
    "    for k in corpus_dict.keys():\n",
    "        \n",
    "        x = pca.transform(corpus_dict[k])\n",
    "        plt.scatter(x[:,0],x[:,1],c=cmap((ctc+1)/len(corpus_dict.keys())))\n",
    "        x_povp = np.mean(x,axis=0)\n",
    "        \n",
    "        plt.scatter(x_povp[0],x_povp[1],50,c=cmap((ctc+1)/len(corpus_dict.keys())))\n",
    "        plt.annotate(k,xy=(x_povp[0],x_povp[1]),size=18)\n",
    "        ctc += 1\n",
    "        \n",
    "        for i in range(x.shape[0]):\n",
    "            #plt.annotate(words[ct],xy=(x[i,0],x[i,1]))\n",
    "            ct += 1\n",
    "        \n",
    "\n",
    "tokens = corpus[\"stemmed\"].tolist()\n",
    "model = gensim.models.Word2Vec(tokens,min_count=1)\n",
    "whole_corpus, corpus_dict, words = extract_most_common_words(corpus,model,5)\n",
    "plot_word2vec(whole_corpus,corpus_dict,words)"
   ]
  },
  {
   "cell_type": "code",
   "execution_count": null,
   "id": "flying-bacteria",
   "metadata": {},
   "outputs": [],
   "source": []
  }
 ],
 "metadata": {
  "kernelspec": {
   "display_name": "Python 3",
   "language": "python",
   "name": "python3"
  },
  "language_info": {
   "codemirror_mode": {
    "name": "ipython",
    "version": 3
   },
   "file_extension": ".py",
   "mimetype": "text/x-python",
   "name": "python",
   "nbconvert_exporter": "python",
   "pygments_lexer": "ipython3",
   "version": "3.9.2"
  }
 },
 "nbformat": 4,
 "nbformat_minor": 5
}
